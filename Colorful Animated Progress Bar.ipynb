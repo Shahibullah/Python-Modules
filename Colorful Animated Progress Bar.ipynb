{
  "nbformat": 4,
  "nbformat_minor": 0,
  "metadata": {
    "colab": {
      "provenance": []
    },
    "kernelspec": {
      "name": "python3",
      "display_name": "Python 3"
    },
    "language_info": {
      "name": "python"
    }
  },
  "cells": [
    {
      "cell_type": "code",
      "source": [
        "import time\n",
        "from itertools import cycle\n",
        "\n",
        "# Color codes for terminal (red, yellow, green, cyan, blue, magenta)\n",
        "colors = cycle([\"\\033[91m\", \"\\033[93m\", \"\\033[92m\", \"\\033[96m\", \"\\033[94m\", \"\\033[95m\"])\n",
        "\n",
        "length = 50\n",
        "\n",
        "for i in range(length + 1):\n",
        "    bar = \"\".join(next(colors) + \"█\" for LEN in range(i))  # Use █ for filled part\n",
        "    print(f\"\\r{bar:<50}\\033[0m\", end=\"\")  # \\033[0m resets color\n",
        "\n",
        "    time.sleep(0.05)\n",
        "\n",
        "print(\"\\nDone!\")\n"
      ],
      "metadata": {
        "colab": {
          "base_uri": "https://localhost:8080/"
        },
        "id": "43d5EEFHpBmO",
        "outputId": "ae5c8976-5169-480c-e8d4-7fccbf2ed965"
      },
      "execution_count": 17,
      "outputs": [
        {
          "output_type": "stream",
          "name": "stdout",
          "text": [
            "\u001b[93m█\u001b[92m█\u001b[96m█\u001b[94m█\u001b[95m█\u001b[91m█\u001b[93m█\u001b[92m█\u001b[96m█\u001b[94m█\u001b[95m█\u001b[91m█\u001b[93m█\u001b[92m█\u001b[96m█\u001b[94m█\u001b[95m█\u001b[91m█\u001b[93m█\u001b[92m█\u001b[96m█\u001b[94m█\u001b[95m█\u001b[91m█\u001b[93m█\u001b[92m█\u001b[96m█\u001b[94m█\u001b[95m█\u001b[91m█\u001b[93m█\u001b[92m█\u001b[96m█\u001b[94m█\u001b[95m█\u001b[91m█\u001b[93m█\u001b[92m█\u001b[96m█\u001b[94m█\u001b[95m█\u001b[91m█\u001b[93m█\u001b[92m█\u001b[96m█\u001b[94m█\u001b[95m█\u001b[91m█\u001b[93m█\u001b[92m█\u001b[0m\n",
            "Done!\n"
          ]
        }
      ]
    }
  ]
}