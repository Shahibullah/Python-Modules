{
  "nbformat": 4,
  "nbformat_minor": 0,
  "metadata": {
    "colab": {
      "provenance": []
    },
    "kernelspec": {
      "name": "python3",
      "display_name": "Python 3"
    },
    "language_info": {
      "name": "python"
    }
  },
  "cells": [
    {
      "cell_type": "code",
      "source": [
        "!pip install countryinfo"
      ],
      "metadata": {
        "colab": {
          "base_uri": "https://localhost:8080/"
        },
        "id": "TPQWVZtmUk3h",
        "outputId": "205012b2-72d1-483d-a3ca-c173753df6d7"
      },
      "execution_count": 11,
      "outputs": [
        {
          "output_type": "stream",
          "name": "stdout",
          "text": [
            "Requirement already satisfied: countryinfo in /usr/local/lib/python3.12/dist-packages (0.1.2)\n"
          ]
        }
      ]
    },
    {
      "cell_type": "code",
      "source": [
        "from countryinfo import CountryInfo # Corrected import to import the class\n",
        "country = CountryInfo(input(\"Enter Country Name: \")) # Changed to call the imported class\n",
        "print(\"Country Name: \",country.name())\n",
        "print(\"Capital: \",country.capital())\n",
        "print(\"Population: \",country.population())\n",
        "print(\"Area (In squre KM: )\",country.area())\n",
        "print(\"Region: \",country.region())\n",
        "print(\"Sub Region: \",country.subregion())\n",
        "print(\"Timezone: \",country.timezones())\n",
        "print(\"Demonym: \",country.demonym())\n",
        "print(\"Currency: \",country.currencies())\n",
        "print(\"Languages: \",country.languages())\n",
        "print(\"Borders: \",country.borders())"
      ],
      "metadata": {
        "colab": {
          "base_uri": "https://localhost:8080/"
        },
        "id": "09kaRrOdEHLE",
        "outputId": "1b7d9974-f1fb-44eb-c317-d8bb4796f795"
      },
      "execution_count": 17,
      "outputs": [
        {
          "output_type": "stream",
          "name": "stdout",
          "text": [
            "Enter Country Name: BANGLADESH\n",
            "Country Name:  bangladesh\n",
            "Capital:  Dhaka\n",
            "Population:  157486000\n",
            "Area (In squre KM: ) 147570\n",
            "Region:  Asia\n",
            "Sub Region:  Southern Asia\n",
            "Timezone:  ['UTC+06:00']\n",
            "Demonym:  Bangladeshi\n",
            "Currency:  ['BDT']\n",
            "Languages:  ['bn']\n",
            "Borders:  ['MMR', 'IND']\n"
          ]
        }
      ]
    }
  ]
}