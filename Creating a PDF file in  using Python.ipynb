{
  "nbformat": 4,
  "nbformat_minor": 0,
  "metadata": {
    "colab": {
      "provenance": []
    },
    "kernelspec": {
      "name": "python3",
      "display_name": "Python 3"
    },
    "language_info": {
      "name": "python"
    }
  },
  "cells": [
    {
      "cell_type": "code",
      "source": [
        "pip install fpdf"
      ],
      "metadata": {
        "colab": {
          "base_uri": "https://localhost:8080/"
        },
        "id": "TPQWVZtmUk3h",
        "outputId": "17bc46c3-0c13-4fc0-b899-e36cc398ed67"
      },
      "execution_count": 22,
      "outputs": [
        {
          "output_type": "stream",
          "name": "stdout",
          "text": [
            "Requirement already satisfied: fpdf in /usr/local/lib/python3.12/dist-packages (1.7.2)\n"
          ]
        }
      ]
    },
    {
      "cell_type": "code",
      "source": [
        "# install first:\n",
        "# pip install fpdf\n",
        "\n",
        "from fpdf import FPDF\n",
        "\n",
        "# Create a PDF object\n",
        "pdf = FPDF()\n",
        "\n",
        "# Add a page\n",
        "pdf.add_page()\n",
        "\n",
        "# Set font: Arial Bold 16\n",
        "pdf.set_font(\"Arial\", style=\"B\", size=16)\n",
        "\n",
        "# Add a centered title\n",
        "pdf.cell(200, 10, txt=\"My First PDF in Python\", ln=True, align=\"C\")\n",
        "\n",
        "# Change font back to normal\n",
        "pdf.set_font(\"Arial\", size=12)\n",
        "\n",
        "# Add body text\n",
        "pdf.multi_cell(0, 10, txt=\"This PDF is created using Python and the fpdf library.\")\n",
        "\n",
        "# Save the PDF\n",
        "pdf.output(\"clcoding.pdf\")\n",
        "\n",
        "print(\"PDF created successfully!\")\n"
      ],
      "metadata": {
        "colab": {
          "base_uri": "https://localhost:8080/"
        },
        "id": "qTqkYhPjYUv2",
        "outputId": "e03f36ba-d847-433b-d446-cc4d05bb3c83"
      },
      "execution_count": 26,
      "outputs": [
        {
          "output_type": "stream",
          "name": "stdout",
          "text": [
            "PDF created successfully!\n"
          ]
        }
      ]
    }
  ]
}